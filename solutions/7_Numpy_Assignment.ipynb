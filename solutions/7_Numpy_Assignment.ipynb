{
 "cells": [
  {
   "cell_type": "markdown",
   "id": "hungarian-jacket",
   "metadata": {},
   "source": [
    "# 7 - Numpy Assignment  [Questions](https://drive.google.com/file/d/1TZnso_qxuqgMjGyhcpGshzt5S0sg1qve/view)"
   ]
  },
  {
   "cell_type": "markdown",
   "id": "native-karma",
   "metadata": {},
   "source": [
    "## Solution"
   ]
  },
  {
   "cell_type": "code",
   "execution_count": 1,
   "id": "expired-comment",
   "metadata": {},
   "outputs": [
    {
     "data": {
      "text/plain": [
       "array([  3,   5,   7,   2,   8,  10,  11,  65,  72,  81,  99, 100, 150])"
      ]
     },
     "execution_count": 1,
     "metadata": {},
     "output_type": "execute_result"
    }
   ],
   "source": [
    "import numpy as np\n",
    "np_array = np.array([3, 5, 7, 2, 8, 10, 11, 65, 72, 81, 99, 100, 150])\n",
    "np_array"
   ]
  },
  {
   "cell_type": "code",
   "execution_count": 2,
   "id": "assured-shape",
   "metadata": {},
   "outputs": [
    {
     "name": "stdout",
     "output_type": "stream",
     "text": [
      "============================================================\n",
      "Input\t3  5  7  2  8  10  11  65  72  81  99  100  150  \n",
      "\n",
      "y1   5 = (3+5+7)/3\n",
      "y2   4 = (5+7+2)/3\n",
      "y3   5 = (7+2+8)/3\n",
      "y4   6 = (2+8+10)/3\n",
      "y5   9 = (8+10+11)/3\n",
      "y6   28 = (10+11+65)/3\n",
      "y7   49 = (11+65+72)/3\n",
      "y8   72 = (65+72+81)/3\n",
      "y9   84 = (72+81+99)/3\n",
      "y10   93 = (81+99+100)/3\n",
      "y11   116 = (99+100+150)/3\n"
     ]
    }
   ],
   "source": [
    "k = 3\n",
    "print('='*60)\n",
    "print('Input\\t',end='')\n",
    "for value in np_array:\n",
    "    print(value,end='  ')\n",
    "print('\\n')\n",
    "for i in range(np_array.size-k+1):\n",
    "    print(f'y{i+1}   {(np_array[i]+np_array[i+1]+np_array[i+2])//3} = ({np_array[i]}+{np_array[i+1]}+{np_array[i+2]})/3')\n"
   ]
  }
 ],
 "metadata": {
  "kernelspec": {
   "display_name": "Python 3",
   "language": "python",
   "name": "python3"
  },
  "language_info": {
   "codemirror_mode": {
    "name": "ipython",
    "version": 3
   },
   "file_extension": ".py",
   "mimetype": "text/x-python",
   "name": "python",
   "nbconvert_exporter": "python",
   "pygments_lexer": "ipython3",
   "version": "3.9.1"
  }
 },
 "nbformat": 4,
 "nbformat_minor": 5
}
