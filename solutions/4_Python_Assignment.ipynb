{
 "cells": [
  {
   "cell_type": "markdown",
   "id": "natural-upset",
   "metadata": {},
   "source": [
    "# 4 - Python Assignment  [Questions](https://drive.google.com/file/d/1RtSFUNsSwinUcq7AjmLhsSrXo57mDb_D/view)"
   ]
  },
  {
   "cell_type": "markdown",
   "id": "automated-seafood",
   "metadata": {},
   "source": [
    "## Solution 1.1"
   ]
  },
  {
   "cell_type": "code",
   "execution_count": 1,
   "id": "distinct-debate",
   "metadata": {},
   "outputs": [
    {
     "name": "stdout",
     "output_type": "stream",
     "text": [
      "Enter the length of first side  : 30\n",
      "Enter the length of second side : 40\n",
      "Enter the length of third side  : 50\n",
      "Area of triangle :  77.45966692414834  sq. units\n"
     ]
    }
   ],
   "source": [
    "class Input_Length:\n",
    "    def __init__(self):\n",
    "        self.a = int(input('Enter the length of first side  : '))\n",
    "        self.b = int(input('Enter the length of second side : '))\n",
    "        self.c = int(input('Enter the length of third side  : '))    \n",
    "\n",
    "        \n",
    "class Calculate_Area(Input_Length):\n",
    "    def __init__(self):\n",
    "        super().__init__()\n",
    "        self.area = self.calc()\n",
    "        \n",
    "    def calc(self):\n",
    "        s = (self.a + self.b + self.c)/2\n",
    "        return ((s - self.a) * (s - self.b) * (s - self.c))**0.5\n",
    "        \n",
    "        \n",
    "obj = Calculate_Area()\n",
    "print(f'Area of triangle :  {obj.area}  sq. units')       "
   ]
  },
  {
   "cell_type": "markdown",
   "id": "charitable-deviation",
   "metadata": {},
   "source": [
    "## Solution 1.2"
   ]
  },
  {
   "cell_type": "code",
   "execution_count": 2,
   "id": "distributed-editing",
   "metadata": {},
   "outputs": [
    {
     "name": "stdout",
     "output_type": "stream",
     "text": [
      "['Three', 'Four', 'Five']\n"
     ]
    }
   ],
   "source": [
    "def filter_long_words(words,size):\n",
    "    return [word for word in words if len(word) > size]\n",
    "    # return list(filter(lambda word : len(word) > size, words))\n",
    "\n",
    "\n",
    "print(filter_long_words(['One','Two','Three','Four','Five'],3))"
   ]
  },
  {
   "cell_type": "markdown",
   "id": "acute-might",
   "metadata": {},
   "source": [
    "## Solution 2.1"
   ]
  },
  {
   "cell_type": "code",
   "execution_count": 3,
   "id": "monthly-recipient",
   "metadata": {},
   "outputs": [
    {
     "name": "stdout",
     "output_type": "stream",
     "text": [
      "[4, 5, 7, 3]\n"
     ]
    }
   ],
   "source": [
    "words = ['Amit','Sumit','Ineuron','Tea']\n",
    "print([len(word) for word in words])\n",
    "# print(list(map(lambda word : len(word),words)))"
   ]
  },
  {
   "cell_type": "markdown",
   "id": "pressed-engineering",
   "metadata": {},
   "source": [
    "## Solution 2.2"
   ]
  },
  {
   "cell_type": "code",
   "execution_count": 4,
   "id": "official-smile",
   "metadata": {},
   "outputs": [
    {
     "data": {
      "text/plain": [
       "True"
      ]
     },
     "execution_count": 4,
     "metadata": {},
     "output_type": "execute_result"
    }
   ],
   "source": [
    "def Vowel_checker(char):\n",
    "    return True if char in list('AEIOUaeiou') else False\n",
    "\n",
    "Vowel_checker('a')"
   ]
  }
 ],
 "metadata": {
  "kernelspec": {
   "display_name": "Python 3",
   "language": "python",
   "name": "python3"
  },
  "language_info": {
   "codemirror_mode": {
    "name": "ipython",
    "version": 3
   },
   "file_extension": ".py",
   "mimetype": "text/x-python",
   "name": "python",
   "nbconvert_exporter": "python",
   "pygments_lexer": "ipython3",
   "version": "3.9.1"
  }
 },
 "nbformat": 4,
 "nbformat_minor": 5
}
