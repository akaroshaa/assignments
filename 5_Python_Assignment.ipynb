{
 "cells": [
  {
   "cell_type": "markdown",
   "id": "delayed-bacon",
   "metadata": {},
   "source": [
    "# 5 - Python Assignment  [Questions](https://drive.google.com/file/d/17_2m0rmrMtT3aPjlHyVci_zZk6UqSPXq/view)"
   ]
  },
  {
   "cell_type": "markdown",
   "id": "written-vermont",
   "metadata": {},
   "source": [
    "## Solution 1"
   ]
  },
  {
   "cell_type": "code",
   "execution_count": 1,
   "id": "employed-manual",
   "metadata": {},
   "outputs": [
    {
     "name": "stdout",
     "output_type": "stream",
     "text": [
      "Enter first number : 5\n",
      "Enter second number : 0\n",
      "Exception message :  division by zero\n"
     ]
    }
   ],
   "source": [
    "try:\n",
    "    first = int(input('Enter first number : '))    # 5\n",
    "    second = int(input('Enter second number : '))  # 0\n",
    "    print(f'Division : {first/second}')\n",
    "except Exception as ex:\n",
    "    print('Exception message : ',ex)"
   ]
  },
  {
   "cell_type": "code",
   "execution_count": 2,
   "id": "speaking-mission",
   "metadata": {},
   "outputs": [
    {
     "data": {
      "text/plain": [
       "['Americans play Baseball.',\n",
       " 'Americans play Cricket.',\n",
       " 'Americans watch Baseball.',\n",
       " 'Americans watch Cricket.',\n",
       " 'Indians play Baseball.',\n",
       " 'Indians play Cricket.',\n",
       " 'Indians watch Baseball.',\n",
       " 'Indians watch Cricket.']"
      ]
     },
     "execution_count": 2,
     "metadata": {},
     "output_type": "execute_result"
    }
   ],
   "source": [
    "subjects = ['Americans','Indians']\n",
    "verbs = ['play','watch']\n",
    "objects = ['Baseball.','Cricket.'] \n",
    "[element for part in [[key + ' ' + obj for obj in objects] for key in [term for phrase in [[subject + ' ' + verb for verb in verbs] for subject in subjects] for term in phrase]] for element in part]"
   ]
  }
 ],
 "metadata": {
  "kernelspec": {
   "display_name": "Python 3",
   "language": "python",
   "name": "python3"
  },
  "language_info": {
   "codemirror_mode": {
    "name": "ipython",
    "version": 3
   },
   "file_extension": ".py",
   "mimetype": "text/x-python",
   "name": "python",
   "nbconvert_exporter": "python",
   "pygments_lexer": "ipython3",
   "version": "3.9.1"
  }
 },
 "nbformat": 4,
 "nbformat_minor": 5
}
