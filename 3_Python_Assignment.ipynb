{
 "cells": [
  {
   "cell_type": "markdown",
   "id": "inclusive-cache",
   "metadata": {},
   "source": [
    "# 3 - Python Assignment  [Questions](https://drive.google.com/file/d/1z9BMCkTDaFTs6Q5eT8xe5WIh3x_jmpk8/view)"
   ]
  },
  {
   "cell_type": "markdown",
   "id": "resident-bargain",
   "metadata": {},
   "source": [
    "## Solution 1.1"
   ]
  },
  {
   "cell_type": "code",
   "execution_count": 1,
   "id": "handmade-horizon",
   "metadata": {},
   "outputs": [
    {
     "name": "stdout",
     "output_type": "stream",
     "text": [
      "120\n"
     ]
    }
   ],
   "source": [
    "def myreduce(numbers):\n",
    "    product = 1\n",
    "    for i in numbers:\n",
    "        product *= i\n",
    "    return product\n",
    "\n",
    "\n",
    "print(myreduce([1,2,3,4,5]))"
   ]
  },
  {
   "cell_type": "markdown",
   "id": "after-given",
   "metadata": {},
   "source": [
    "## Solution 1.2"
   ]
  },
  {
   "cell_type": "code",
   "execution_count": 2,
   "id": "atomic-match",
   "metadata": {},
   "outputs": [
    {
     "name": "stdout",
     "output_type": "stream",
     "text": [
      "[2, 4, 6]\n"
     ]
    }
   ],
   "source": [
    "# Creating a function to filter even numbers from a list\n",
    "\n",
    "def myfilter(numbers):\n",
    "    filt = lambda num : num % 2 == 0\n",
    "    return [i for i in numbers if filt(i)]\n",
    "\n",
    "\n",
    "\n",
    "even_numbers = myfilter([1,2,3,4,5,6])\n",
    "print(even_numbers)"
   ]
  },
  {
   "cell_type": "markdown",
   "id": "accepted-cornwall",
   "metadata": {},
   "source": [
    "## Solution 2"
   ]
  },
  {
   "cell_type": "code",
   "execution_count": 3,
   "id": "swiss-minnesota",
   "metadata": {},
   "outputs": [
    {
     "data": {
      "text/plain": [
       "['x', 'xx', 'xxx', 'xxxx', 'y', 'yy', 'yyy', 'yyyy', 'z', 'zz', 'zzz', 'zzzz']"
      ]
     },
     "execution_count": 3,
     "metadata": {},
     "output_type": "execute_result"
    }
   ],
   "source": [
    "[j for i in [[char*times for times in range(1,5)] for char in ['x','y','z']] for j in i]"
   ]
  },
  {
   "cell_type": "code",
   "execution_count": 4,
   "id": "prompt-paste",
   "metadata": {},
   "outputs": [
    {
     "data": {
      "text/plain": [
       "['x', 'y', 'z', 'xx', 'yy', 'zz', 'xxx', 'yyy', 'zzz', 'xxxx', 'yyyy', 'zzzz']"
      ]
     },
     "execution_count": 4,
     "metadata": {},
     "output_type": "execute_result"
    }
   ],
   "source": [
    "[char*times for times in range(1,5) for char in ['x','y','z']]"
   ]
  },
  {
   "cell_type": "code",
   "execution_count": 5,
   "id": "emerging-import",
   "metadata": {},
   "outputs": [
    {
     "data": {
      "text/plain": [
       "[[2], [3], [4], [3], [4], [5], [4], [5], [6]]"
      ]
     },
     "execution_count": 5,
     "metadata": {},
     "output_type": "execute_result"
    }
   ],
   "source": [
    "[k for j in [[[i],[i+1],[i+2]] for i in range(2,5)] for k in j]"
   ]
  },
  {
   "cell_type": "code",
   "execution_count": 6,
   "id": "tough-contemporary",
   "metadata": {},
   "outputs": [
    {
     "data": {
      "text/plain": [
       "[(2, 3, 4, 5), (3, 4, 5, 6), (4, 5, 6, 7), (5, 6, 7, 8)]"
      ]
     },
     "execution_count": 6,
     "metadata": {},
     "output_type": "execute_result"
    }
   ],
   "source": [
    "[(i,i+1,i+2,i+3) for i in range(2,6)]"
   ]
  },
  {
   "cell_type": "code",
   "execution_count": 7,
   "id": "adjacent-estimate",
   "metadata": {},
   "outputs": [
    {
     "data": {
      "text/plain": [
       "[(1, 1), (2, 1), (3, 1), (1, 2), (2, 2), (3, 2), (1, 3), (2, 3), (3, 3)]"
      ]
     },
     "execution_count": 7,
     "metadata": {},
     "output_type": "execute_result"
    }
   ],
   "source": [
    "[l for k in [[(i,j) for i in range(1,4)] for j in range(1,4)] for l in k]"
   ]
  }
 ],
 "metadata": {
  "kernelspec": {
   "display_name": "Python 3",
   "language": "python",
   "name": "python3"
  },
  "language_info": {
   "codemirror_mode": {
    "name": "ipython",
    "version": 3
   },
   "file_extension": ".py",
   "mimetype": "text/x-python",
   "name": "python",
   "nbconvert_exporter": "python",
   "pygments_lexer": "ipython3",
   "version": "3.9.1"
  }
 },
 "nbformat": 4,
 "nbformat_minor": 5
}
