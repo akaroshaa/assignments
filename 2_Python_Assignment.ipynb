{
 "cells": [
  {
   "cell_type": "markdown",
   "id": "dress-evanescence",
   "metadata": {},
   "source": [
    "# 2 - Python Assignment  [Questions](https://drive.google.com/file/d/1DZUKA_tW4yq8R7t8MNQONjg8f2FWmgNX/view)"
   ]
  },
  {
   "cell_type": "markdown",
   "id": "silent-cigarette",
   "metadata": {},
   "source": [
    "## Solution 1"
   ]
  },
  {
   "cell_type": "code",
   "execution_count": 3,
   "id": "lightweight-recipient",
   "metadata": {},
   "outputs": [
    {
     "name": "stdout",
     "output_type": "stream",
     "text": [
      "*\n",
      "**\n",
      "***\n",
      "****\n",
      "*****\n"
     ]
    }
   ],
   "source": [
    "for i in range(1,6):\n",
    "    print('*'*i)\n",
    "for i in range(4,:,-1):\n",
    "    print('*'*i)"
   ]
  },
  {
   "cell_type": "markdown",
   "id": "quiet-possession",
   "metadata": {},
   "source": [
    "## Solution 2"
   ]
  },
  {
   "cell_type": "code",
   "execution_count": 1,
   "id": "literary-shadow",
   "metadata": {},
   "outputs": [
    {
     "name": "stdout",
     "output_type": "stream",
     "text": [
      "Enter a word : Ineuron\n",
      "noruenI\n"
     ]
    }
   ],
   "source": [
    "print(input('Enter a word : ')[::-1])"
   ]
  }
 ],
 "metadata": {
  "kernelspec": {
   "display_name": "Python 3",
   "language": "python",
   "name": "python3"
  },
  "language_info": {
   "codemirror_mode": {
    "name": "ipython",
    "version": 3
   },
   "file_extension": ".py",
   "mimetype": "text/x-python",
   "name": "python",
   "nbconvert_exporter": "python",
   "pygments_lexer": "ipython3",
   "version": "3.9.1"
  }
 },
 "nbformat": 4,
 "nbformat_minor": 5
}
